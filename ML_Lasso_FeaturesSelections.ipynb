{
 "cells": [
  {
   "cell_type": "markdown",
   "id": "e466a61a",
   "metadata": {},
   "source": [
    "<h1>Machine Learning - Lasso Feature Selection</h1>\n",
    "    \n",
    "<h2>Lasso</h2>\n",
    "\n",
    "Lasso is an unsupervised learning method for feature selection. LASSO, short for Least Absolute Shrinkage and Selection Operator, is a statistical formula whose main purpose is the feature selection and regularization of data models. LASSO introduces parameters to the sum of a model, giving it an upper bound that acts as a constraint for the sum to include absolute parameters within an allowable range.\n",
    "\n"
   ]
  },
  {
   "cell_type": "markdown",
   "id": "98d15fff",
   "metadata": {},
   "source": [
    "<h2>How does it work?</h2>\n",
    "\n",
    "\n",
    "The LASSO method regularizes model parameters by shrinking the regression coefficients, reducing some of them to zero. The feature selection phase occurs after the shrinkage, where every non-zero value is selected to be used in the model.Trying to minimize the cost function, Lasso regression will automatically select those features that are useful, discarding the useless or redundant features. In Lasso regression, discarding a feature will make its coefficient equal to 0.\n",
    "\n",
    "I have fitted a Lasso regression on a scaled version of our dataset and we consider only those features that have a coefficient different from 0. Obviously, we first need to tune α hyperparameter in order to have the right kind of Lasso regression.\n",
    "\n",
    "\n"
   ]
  },
  {
   "cell_type": "markdown",
   "id": "6c3e5cdb-eeec-42ab-9e9a-f31eae39271c",
   "metadata": {},
   "source": [
    "##### First, let’s import some libraries:"
   ]
  },
  {
   "cell_type": "code",
   "execution_count": 84,
   "id": "92f8aec5-700e-42a3-bba9-0708146672de",
   "metadata": {},
   "outputs": [],
   "source": [
    "import numpy as np\n",
    "%matplotlib inline\n",
    "from sklearn import datasets\n",
    "from sklearn.preprocessing import StandardScaler\n",
    "from sklearn.pipeline import Pipeline\n",
    "from sklearn.model_selection import train_test_split, GridSearchCV\n",
    "from sklearn.linear_model import Lasso\n",
    "import warnings\n",
    "warnings.filterwarnings(\"ignore\")\n"
   ]
  },
  {
   "cell_type": "markdown",
   "id": "34a27e15-7a99-4d92-8615-1e224a8b052b",
   "metadata": {},
   "source": [
    "\n",
    "[numpy](https://numpy.org/) is a library for working with arrays and matricies in Python, [scikit-learn](https://scikit-learn.org/stable/) is a popular library for machine learning."
   ]
  },
  {
   "cell_type": "markdown",
   "id": "297a40ad-24c5-4e74-9314-3761b0b42b02",
   "metadata": {},
   "source": [
    "##### I import the dataset and its feature name or (columns names)."
   ]
  },
  {
   "cell_type": "code",
   "execution_count": 85,
   "id": "3ad9a443",
   "metadata": {},
   "outputs": [
    {
     "name": "stdout",
     "output_type": "stream",
     "text": [
      "{'data': array([[6.3200e-03, 1.8000e+01, 2.3100e+00, ..., 1.5300e+01, 3.9690e+02,\n",
      "        4.9800e+00],\n",
      "       [2.7310e-02, 0.0000e+00, 7.0700e+00, ..., 1.7800e+01, 3.9690e+02,\n",
      "        9.1400e+00],\n",
      "       [2.7290e-02, 0.0000e+00, 7.0700e+00, ..., 1.7800e+01, 3.9283e+02,\n",
      "        4.0300e+00],\n",
      "       ...,\n",
      "       [6.0760e-02, 0.0000e+00, 1.1930e+01, ..., 2.1000e+01, 3.9690e+02,\n",
      "        5.6400e+00],\n",
      "       [1.0959e-01, 0.0000e+00, 1.1930e+01, ..., 2.1000e+01, 3.9345e+02,\n",
      "        6.4800e+00],\n",
      "       [4.7410e-02, 0.0000e+00, 1.1930e+01, ..., 2.1000e+01, 3.9690e+02,\n",
      "        7.8800e+00]]), 'target': array([24. , 21.6, 34.7, 33.4, 36.2, 28.7, 22.9, 27.1, 16.5, 18.9, 15. ,\n",
      "       18.9, 21.7, 20.4, 18.2, 19.9, 23.1, 17.5, 20.2, 18.2, 13.6, 19.6,\n",
      "       15.2, 14.5, 15.6, 13.9, 16.6, 14.8, 18.4, 21. , 12.7, 14.5, 13.2,\n",
      "       13.1, 13.5, 18.9, 20. , 21. , 24.7, 30.8, 34.9, 26.6, 25.3, 24.7,\n",
      "       21.2, 19.3, 20. , 16.6, 14.4, 19.4, 19.7, 20.5, 25. , 23.4, 18.9,\n",
      "       35.4, 24.7, 31.6, 23.3, 19.6, 18.7, 16. , 22.2, 25. , 33. , 23.5,\n",
      "       19.4, 22. , 17.4, 20.9, 24.2, 21.7, 22.8, 23.4, 24.1, 21.4, 20. ,\n",
      "       20.8, 21.2, 20.3, 28. , 23.9, 24.8, 22.9, 23.9, 26.6, 22.5, 22.2,\n",
      "       23.6, 28.7, 22.6, 22. , 22.9, 25. , 20.6, 28.4, 21.4, 38.7, 43.8,\n",
      "       33.2, 27.5, 26.5, 18.6, 19.3, 20.1, 19.5, 19.5, 20.4, 19.8, 19.4,\n",
      "       21.7, 22.8, 18.8, 18.7, 18.5, 18.3, 21.2, 19.2, 20.4, 19.3, 22. ,\n",
      "       20.3, 20.5, 17.3, 18.8, 21.4, 15.7, 16.2, 18. , 14.3, 19.2, 19.6,\n",
      "       23. , 18.4, 15.6, 18.1, 17.4, 17.1, 13.3, 17.8, 14. , 14.4, 13.4,\n",
      "       15.6, 11.8, 13.8, 15.6, 14.6, 17.8, 15.4, 21.5, 19.6, 15.3, 19.4,\n",
      "       17. , 15.6, 13.1, 41.3, 24.3, 23.3, 27. , 50. , 50. , 50. , 22.7,\n",
      "       25. , 50. , 23.8, 23.8, 22.3, 17.4, 19.1, 23.1, 23.6, 22.6, 29.4,\n",
      "       23.2, 24.6, 29.9, 37.2, 39.8, 36.2, 37.9, 32.5, 26.4, 29.6, 50. ,\n",
      "       32. , 29.8, 34.9, 37. , 30.5, 36.4, 31.1, 29.1, 50. , 33.3, 30.3,\n",
      "       34.6, 34.9, 32.9, 24.1, 42.3, 48.5, 50. , 22.6, 24.4, 22.5, 24.4,\n",
      "       20. , 21.7, 19.3, 22.4, 28.1, 23.7, 25. , 23.3, 28.7, 21.5, 23. ,\n",
      "       26.7, 21.7, 27.5, 30.1, 44.8, 50. , 37.6, 31.6, 46.7, 31.5, 24.3,\n",
      "       31.7, 41.7, 48.3, 29. , 24. , 25.1, 31.5, 23.7, 23.3, 22. , 20.1,\n",
      "       22.2, 23.7, 17.6, 18.5, 24.3, 20.5, 24.5, 26.2, 24.4, 24.8, 29.6,\n",
      "       42.8, 21.9, 20.9, 44. , 50. , 36. , 30.1, 33.8, 43.1, 48.8, 31. ,\n",
      "       36.5, 22.8, 30.7, 50. , 43.5, 20.7, 21.1, 25.2, 24.4, 35.2, 32.4,\n",
      "       32. , 33.2, 33.1, 29.1, 35.1, 45.4, 35.4, 46. , 50. , 32.2, 22. ,\n",
      "       20.1, 23.2, 22.3, 24.8, 28.5, 37.3, 27.9, 23.9, 21.7, 28.6, 27.1,\n",
      "       20.3, 22.5, 29. , 24.8, 22. , 26.4, 33.1, 36.1, 28.4, 33.4, 28.2,\n",
      "       22.8, 20.3, 16.1, 22.1, 19.4, 21.6, 23.8, 16.2, 17.8, 19.8, 23.1,\n",
      "       21. , 23.8, 23.1, 20.4, 18.5, 25. , 24.6, 23. , 22.2, 19.3, 22.6,\n",
      "       19.8, 17.1, 19.4, 22.2, 20.7, 21.1, 19.5, 18.5, 20.6, 19. , 18.7,\n",
      "       32.7, 16.5, 23.9, 31.2, 17.5, 17.2, 23.1, 24.5, 26.6, 22.9, 24.1,\n",
      "       18.6, 30.1, 18.2, 20.6, 17.8, 21.7, 22.7, 22.6, 25. , 19.9, 20.8,\n",
      "       16.8, 21.9, 27.5, 21.9, 23.1, 50. , 50. , 50. , 50. , 50. , 13.8,\n",
      "       13.8, 15. , 13.9, 13.3, 13.1, 10.2, 10.4, 10.9, 11.3, 12.3,  8.8,\n",
      "        7.2, 10.5,  7.4, 10.2, 11.5, 15.1, 23.2,  9.7, 13.8, 12.7, 13.1,\n",
      "       12.5,  8.5,  5. ,  6.3,  5.6,  7.2, 12.1,  8.3,  8.5,  5. , 11.9,\n",
      "       27.9, 17.2, 27.5, 15. , 17.2, 17.9, 16.3,  7. ,  7.2,  7.5, 10.4,\n",
      "        8.8,  8.4, 16.7, 14.2, 20.8, 13.4, 11.7,  8.3, 10.2, 10.9, 11. ,\n",
      "        9.5, 14.5, 14.1, 16.1, 14.3, 11.7, 13.4,  9.6,  8.7,  8.4, 12.8,\n",
      "       10.5, 17.1, 18.4, 15.4, 10.8, 11.8, 14.9, 12.6, 14.1, 13. , 13.4,\n",
      "       15.2, 16.1, 17.8, 14.9, 14.1, 12.7, 13.5, 14.9, 20. , 16.4, 17.7,\n",
      "       19.5, 20.2, 21.4, 19.9, 19. , 19.1, 19.1, 20.1, 19.9, 19.6, 23.2,\n",
      "       29.8, 13.8, 13.3, 16.7, 12. , 14.6, 21.4, 23. , 23.7, 25. , 21.8,\n",
      "       20.6, 21.2, 19.1, 20.6, 15.2,  7. ,  8.1, 13.6, 20.1, 21.8, 24.5,\n",
      "       23.1, 19.7, 18.3, 21.2, 17.5, 16.8, 22.4, 20.6, 23.9, 22. , 11.9]), 'feature_names': array(['CRIM', 'ZN', 'INDUS', 'CHAS', 'NOX', 'RM', 'AGE', 'DIS', 'RAD',\n",
      "       'TAX', 'PTRATIO', 'B', 'LSTAT'], dtype='<U7'), 'DESCR': \".. _boston_dataset:\\n\\nBoston house prices dataset\\n---------------------------\\n\\n**Data Set Characteristics:**  \\n\\n    :Number of Instances: 506 \\n\\n    :Number of Attributes: 13 numeric/categorical predictive. Median Value (attribute 14) is usually the target.\\n\\n    :Attribute Information (in order):\\n        - CRIM     per capita crime rate by town\\n        - ZN       proportion of residential land zoned for lots over 25,000 sq.ft.\\n        - INDUS    proportion of non-retail business acres per town\\n        - CHAS     Charles River dummy variable (= 1 if tract bounds river; 0 otherwise)\\n        - NOX      nitric oxides concentration (parts per 10 million)\\n        - RM       average number of rooms per dwelling\\n        - AGE      proportion of owner-occupied units built prior to 1940\\n        - DIS      weighted distances to five Boston employment centres\\n        - RAD      index of accessibility to radial highways\\n        - TAX      full-value property-tax rate per $10,000\\n        - PTRATIO  pupil-teacher ratio by town\\n        - B        1000(Bk - 0.63)^2 where Bk is the proportion of black people by town\\n        - LSTAT    % lower status of the population\\n        - MEDV     Median value of owner-occupied homes in $1000's\\n\\n    :Missing Attribute Values: None\\n\\n    :Creator: Harrison, D. and Rubinfeld, D.L.\\n\\nThis is a copy of UCI ML housing dataset.\\nhttps://archive.ics.uci.edu/ml/machine-learning-databases/housing/\\n\\n\\nThis dataset was taken from the StatLib library which is maintained at Carnegie Mellon University.\\n\\nThe Boston house-price data of Harrison, D. and Rubinfeld, D.L. 'Hedonic\\nprices and the demand for clean air', J. Environ. Economics & Management,\\nvol.5, 81-102, 1978.   Used in Belsley, Kuh & Welsch, 'Regression diagnostics\\n...', Wiley, 1980.   N.B. Various transformations are used in the table on\\npages 244-261 of the latter.\\n\\nThe Boston house-price data has been used in many machine learning papers that address regression\\nproblems.   \\n     \\n.. topic:: References\\n\\n   - Belsley, Kuh & Welsch, 'Regression diagnostics: Identifying Influential Data and Sources of Collinearity', Wiley, 1980. 244-261.\\n   - Quinlan,R. (1993). Combining Instance-Based and Model-Based Learning. In Proceedings on the Tenth International Conference of Machine Learning, 236-243, University of Massachusetts, Amherst. Morgan Kaufmann.\\n\", 'filename': 'boston_house_prices.csv', 'data_module': 'sklearn.datasets.data'}\n"
     ]
    }
   ],
   "source": [
    "from sklearn.datasets import load_boston\n",
    "bh = datasets.load_boston()\n",
    "X = bh.data\n",
    "y = bh.target\n",
    "print(bh)\n",
    "features = load_boston()['feature_names']\n"
   ]
  },
  {
   "cell_type": "markdown",
   "id": "abfd50cc-5a7b-42e3-b3c0-0bcc9e97d575",
   "metadata": {},
   "source": [
    "##### Split the dataset into test and train using sklearn"
   ]
  },
  {
   "cell_type": "code",
   "execution_count": 86,
   "id": "c1f9342f",
   "metadata": {},
   "outputs": [],
   "source": [
    "X_train, X_test, y_train, y_test = train_test_split(X, y, test_size=0.33, random_state=42)"
   ]
  },
  {
   "cell_type": "markdown",
   "id": "2a9ae3a8-bcec-47cd-98fa-270906133b28",
   "metadata": {
    "tags": []
   },
   "source": [
    "##### \n",
    "I have create pipeline which contains standarscaler for scaling data and lasso model.\n",
    "\n",
    "\n"
   ]
  },
  {
   "cell_type": "code",
   "execution_count": 87,
   "id": "53778e28",
   "metadata": {},
   "outputs": [],
   "source": [
    "pipeline = Pipeline([ ('scaler',StandardScaler()),('model',Lasso())])"
   ]
  },
  {
   "cell_type": "markdown",
   "id": "7e237336-21d1-4d93-a3b4-668ea12fecae",
   "metadata": {},
   "source": [
    "##### \n",
    "I have apply gridSearch for values of alpha start 0.1 to 5 with increase of 0.1 step.\n",
    "\n"
   ]
  },
  {
   "cell_type": "code",
   "execution_count": 102,
   "id": "b468eab7",
   "metadata": {},
   "outputs": [],
   "source": [
    "search = GridSearchCV(pipeline,\n",
    "                      {'model__alpha':np.arange(0.1,5,0.1)},\n",
    "                      cv = 5, scoring=\"neg_mean_squared_error\",verbose=4\n",
    "                      )"
   ]
  },
  {
   "cell_type": "markdown",
   "id": "b337ec9d-cb2f-4ff5-bb5d-adcef39ac12b",
   "metadata": {},
   "source": [
    "##### \n",
    "I have fit the grid search."
   ]
  },
  {
   "cell_type": "code",
   "execution_count": 103,
   "id": "7e5727a2-c4f2-4848-be9f-6b87b53b89ef",
   "metadata": {},
   "outputs": [
    {
     "name": "stdout",
     "output_type": "stream",
     "text": [
      "Fitting 5 folds for each of 49 candidates, totalling 245 fits\n",
      "[CV 1/5] END ................model__alpha=0.1;, score=-34.099 total time=   0.0s\n",
      "[CV 2/5] END ................model__alpha=0.1;, score=-21.732 total time=   0.0s\n",
      "[CV 3/5] END ................model__alpha=0.1;, score=-28.455 total time=   0.0s\n",
      "[CV 4/5] END ................model__alpha=0.1;, score=-16.658 total time=   0.0s\n",
      "[CV 5/5] END ................model__alpha=0.1;, score=-26.024 total time=   0.0s\n",
      "[CV 1/5] END ................model__alpha=0.2;, score=-34.304 total time=   0.0s\n",
      "[CV 2/5] END ................model__alpha=0.2;, score=-22.571 total time=   0.0s\n",
      "[CV 3/5] END ................model__alpha=0.2;, score=-29.455 total time=   0.0s\n",
      "[CV 4/5] END ................model__alpha=0.2;, score=-16.578 total time=   0.0s\n",
      "[CV 5/5] END ................model__alpha=0.2;, score=-26.788 total time=   0.0s\n",
      "[CV 1/5] END model__alpha=0.30000000000000004;, score=-34.669 total time=   0.0s\n",
      "[CV 2/5] END model__alpha=0.30000000000000004;, score=-22.778 total time=   0.0s\n",
      "[CV 3/5] END model__alpha=0.30000000000000004;, score=-31.079 total time=   0.0s\n",
      "[CV 4/5] END model__alpha=0.30000000000000004;, score=-16.860 total time=   0.0s\n",
      "[CV 5/5] END model__alpha=0.30000000000000004;, score=-27.385 total time=   0.0s\n",
      "[CV 1/5] END ................model__alpha=0.4;, score=-35.347 total time=   0.0s\n",
      "[CV 2/5] END ................model__alpha=0.4;, score=-23.149 total time=   0.0s\n",
      "[CV 3/5] END ................model__alpha=0.4;, score=-32.058 total time=   0.0s\n",
      "[CV 4/5] END ................model__alpha=0.4;, score=-17.484 total time=   0.0s\n",
      "[CV 5/5] END ................model__alpha=0.4;, score=-27.809 total time=   0.0s\n",
      "[CV 1/5] END ................model__alpha=0.5;, score=-36.005 total time=   0.0s\n",
      "[CV 2/5] END ................model__alpha=0.5;, score=-23.156 total time=   0.0s\n",
      "[CV 3/5] END ................model__alpha=0.5;, score=-33.182 total time=   0.0s\n",
      "[CV 4/5] END ................model__alpha=0.5;, score=-18.200 total time=   0.0s\n",
      "[CV 5/5] END ................model__alpha=0.5;, score=-28.026 total time=   0.0s\n",
      "[CV 1/5] END ................model__alpha=0.6;, score=-36.562 total time=   0.0s\n",
      "[CV 2/5] END ................model__alpha=0.6;, score=-23.283 total time=   0.0s\n",
      "[CV 3/5] END ................model__alpha=0.6;, score=-34.090 total time=   0.0s\n",
      "[CV 4/5] END ................model__alpha=0.6;, score=-18.931 total time=   0.0s\n",
      "[CV 5/5] END ................model__alpha=0.6;, score=-28.371 total time=   0.0s\n",
      "[CV 1/5] END .model__alpha=0.7000000000000001;, score=-36.895 total time=   0.0s\n",
      "[CV 2/5] END .model__alpha=0.7000000000000001;, score=-23.382 total time=   0.0s\n",
      "[CV 3/5] END .model__alpha=0.7000000000000001;, score=-34.849 total time=   0.0s\n",
      "[CV 4/5] END .model__alpha=0.7000000000000001;, score=-19.602 total time=   0.0s\n",
      "[CV 5/5] END .model__alpha=0.7000000000000001;, score=-28.709 total time=   0.0s\n",
      "[CV 1/5] END ................model__alpha=0.8;, score=-37.271 total time=   0.0s\n",
      "[CV 2/5] END ................model__alpha=0.8;, score=-23.393 total time=   0.0s\n",
      "[CV 3/5] END ................model__alpha=0.8;, score=-35.693 total time=   0.0s\n",
      "[CV 4/5] END ................model__alpha=0.8;, score=-20.200 total time=   0.0s\n",
      "[CV 5/5] END ................model__alpha=0.8;, score=-28.966 total time=   0.0s\n",
      "[CV 1/5] END ................model__alpha=0.9;, score=-37.671 total time=   0.0s\n",
      "[CV 2/5] END ................model__alpha=0.9;, score=-23.454 total time=   0.0s\n",
      "[CV 3/5] END ................model__alpha=0.9;, score=-36.622 total time=   0.0s\n",
      "[CV 4/5] END ................model__alpha=0.9;, score=-20.845 total time=   0.0s\n",
      "[CV 5/5] END ................model__alpha=0.9;, score=-29.269 total time=   0.0s\n",
      "[CV 1/5] END ................model__alpha=1.0;, score=-38.154 total time=   0.0s\n",
      "[CV 2/5] END ................model__alpha=1.0;, score=-23.566 total time=   0.0s\n",
      "[CV 3/5] END ................model__alpha=1.0;, score=-37.648 total time=   0.0s\n",
      "[CV 4/5] END ................model__alpha=1.0;, score=-21.540 total time=   0.0s\n",
      "[CV 5/5] END ................model__alpha=1.0;, score=-29.616 total time=   0.0s\n",
      "[CV 1/5] END ................model__alpha=1.1;, score=-38.741 total time=   0.0s\n",
      "[CV 2/5] END ................model__alpha=1.1;, score=-23.729 total time=   0.0s\n",
      "[CV 3/5] END ................model__alpha=1.1;, score=-38.762 total time=   0.0s\n",
      "[CV 4/5] END ................model__alpha=1.1;, score=-22.286 total time=   0.0s\n",
      "[CV 5/5] END ................model__alpha=1.1;, score=-30.045 total time=   0.0s\n",
      "[CV 1/5] END .model__alpha=1.2000000000000002;, score=-39.385 total time=   0.0s\n",
      "[CV 2/5] END .model__alpha=1.2000000000000002;, score=-23.942 total time=   0.0s\n",
      "[CV 3/5] END .model__alpha=1.2000000000000002;, score=-39.931 total time=   0.0s\n",
      "[CV 4/5] END .model__alpha=1.2000000000000002;, score=-23.083 total time=   0.0s\n",
      "[CV 5/5] END .model__alpha=1.2000000000000002;, score=-30.402 total time=   0.0s\n",
      "[CV 1/5] END .model__alpha=1.3000000000000003;, score=-40.084 total time=   0.0s\n",
      "[CV 2/5] END .model__alpha=1.3000000000000003;, score=-24.207 total time=   0.0s\n",
      "[CV 3/5] END .model__alpha=1.3000000000000003;, score=-40.891 total time=   0.0s\n",
      "[CV 4/5] END .model__alpha=1.3000000000000003;, score=-23.930 total time=   0.0s\n",
      "[CV 5/5] END .model__alpha=1.3000000000000003;, score=-30.670 total time=   0.0s\n",
      "[CV 1/5] END .model__alpha=1.4000000000000001;, score=-40.697 total time=   0.0s\n",
      "[CV 2/5] END .model__alpha=1.4000000000000001;, score=-24.522 total time=   0.0s\n",
      "[CV 3/5] END .model__alpha=1.4000000000000001;, score=-41.788 total time=   0.0s\n",
      "[CV 4/5] END .model__alpha=1.4000000000000001;, score=-24.665 total time=   0.0s\n",
      "[CV 5/5] END .model__alpha=1.4000000000000001;, score=-30.975 total time=   0.0s\n",
      "[CV 1/5] END .model__alpha=1.5000000000000002;, score=-41.196 total time=   0.0s\n",
      "[CV 2/5] END .model__alpha=1.5000000000000002;, score=-24.869 total time=   0.0s\n",
      "[CV 3/5] END .model__alpha=1.5000000000000002;, score=-42.699 total time=   0.0s\n",
      "[CV 4/5] END .model__alpha=1.5000000000000002;, score=-25.251 total time=   0.0s\n",
      "[CV 5/5] END .model__alpha=1.5000000000000002;, score=-31.321 total time=   0.0s\n",
      "[CV 1/5] END ................model__alpha=1.6;, score=-41.695 total time=   0.0s\n",
      "[CV 2/5] END ................model__alpha=1.6;, score=-25.094 total time=   0.0s\n",
      "[CV 3/5] END ................model__alpha=1.6;, score=-43.653 total time=   0.0s\n",
      "[CV 4/5] END ................model__alpha=1.6;, score=-25.863 total time=   0.0s\n",
      "[CV 5/5] END ................model__alpha=1.6;, score=-31.680 total time=   0.0s\n",
      "[CV 1/5] END .model__alpha=1.7000000000000002;, score=-42.229 total time=   0.0s\n",
      "[CV 2/5] END .model__alpha=1.7000000000000002;, score=-25.345 total time=   0.0s\n",
      "[CV 3/5] END .model__alpha=1.7000000000000002;, score=-44.654 total time=   0.0s\n",
      "[CV 4/5] END .model__alpha=1.7000000000000002;, score=-26.502 total time=   0.0s\n",
      "[CV 5/5] END .model__alpha=1.7000000000000002;, score=-32.030 total time=   0.0s\n",
      "[CV 1/5] END .model__alpha=1.8000000000000003;, score=-42.796 total time=   0.0s\n",
      "[CV 2/5] END .model__alpha=1.8000000000000003;, score=-25.623 total time=   0.0s\n",
      "[CV 3/5] END .model__alpha=1.8000000000000003;, score=-45.699 total time=   0.0s\n",
      "[CV 4/5] END .model__alpha=1.8000000000000003;, score=-27.167 total time=   0.0s\n",
      "[CV 5/5] END .model__alpha=1.8000000000000003;, score=-32.411 total time=   0.0s\n",
      "[CV 1/5] END .model__alpha=1.9000000000000001;, score=-43.397 total time=   0.0s\n",
      "[CV 2/5] END .model__alpha=1.9000000000000001;, score=-25.927 total time=   0.0s\n",
      "[CV 3/5] END .model__alpha=1.9000000000000001;, score=-46.790 total time=   0.0s\n",
      "[CV 4/5] END .model__alpha=1.9000000000000001;, score=-27.859 total time=   0.0s\n",
      "[CV 5/5] END .model__alpha=1.9000000000000001;, score=-32.823 total time=   0.0s\n",
      "[CV 1/5] END ................model__alpha=2.0;, score=-44.033 total time=   0.0s\n",
      "[CV 2/5] END ................model__alpha=2.0;, score=-26.257 total time=   0.0s\n",
      "[CV 3/5] END ................model__alpha=2.0;, score=-47.926 total time=   0.0s\n",
      "[CV 4/5] END ................model__alpha=2.0;, score=-28.578 total time=   0.0s\n",
      "[CV 5/5] END ................model__alpha=2.0;, score=-33.265 total time=   0.0s\n",
      "[CV 1/5] END ................model__alpha=2.1;, score=-44.702 total time=   0.0s\n",
      "[CV 2/5] END ................model__alpha=2.1;, score=-26.614 total time=   0.0s\n",
      "[CV 3/5] END ................model__alpha=2.1;, score=-49.106 total time=   0.0s\n",
      "[CV 4/5] END ................model__alpha=2.1;, score=-29.323 total time=   0.0s\n",
      "[CV 5/5] END ................model__alpha=2.1;, score=-33.738 total time=   0.0s\n",
      "[CV 1/5] END ................model__alpha=2.2;, score=-45.406 total time=   0.0s\n",
      "[CV 2/5] END ................model__alpha=2.2;, score=-26.997 total time=   0.0s\n",
      "[CV 3/5] END ................model__alpha=2.2;, score=-50.332 total time=   0.0s\n",
      "[CV 4/5] END ................model__alpha=2.2;, score=-30.095 total time=   0.0s\n",
      "[CV 5/5] END ................model__alpha=2.2;, score=-34.241 total time=   0.0s\n",
      "[CV 1/5] END .model__alpha=2.3000000000000003;, score=-46.143 total time=   0.0s\n",
      "[CV 2/5] END .model__alpha=2.3000000000000003;, score=-27.407 total time=   0.0s\n",
      "[CV 3/5] END .model__alpha=2.3000000000000003;, score=-51.603 total time=   0.0s\n",
      "[CV 4/5] END .model__alpha=2.3000000000000003;, score=-30.893 total time=   0.0s\n",
      "[CV 5/5] END .model__alpha=2.3000000000000003;, score=-34.776 total time=   0.0s\n",
      "[CV 1/5] END .model__alpha=2.4000000000000004;, score=-46.915 total time=   0.0s\n",
      "[CV 2/5] END .model__alpha=2.4000000000000004;, score=-27.844 total time=   0.0s\n",
      "[CV 3/5] END .model__alpha=2.4000000000000004;, score=-52.918 total time=   0.0s\n",
      "[CV 4/5] END .model__alpha=2.4000000000000004;, score=-31.718 total time=   0.0s\n",
      "[CV 5/5] END .model__alpha=2.4000000000000004;, score=-35.340 total time=   0.0s\n",
      "[CV 1/5] END .model__alpha=2.5000000000000004;, score=-47.721 total time=   0.0s\n",
      "[CV 2/5] END .model__alpha=2.5000000000000004;, score=-28.306 total time=   0.0s\n",
      "[CV 3/5] END .model__alpha=2.5000000000000004;, score=-54.279 total time=   0.0s\n",
      "[CV 4/5] END .model__alpha=2.5000000000000004;, score=-32.570 total time=   0.0s\n",
      "[CV 5/5] END .model__alpha=2.5000000000000004;, score=-35.936 total time=   0.0s\n",
      "[CV 1/5] END ................model__alpha=2.6;, score=-48.561 total time=   0.0s\n",
      "[CV 2/5] END ................model__alpha=2.6;, score=-28.795 total time=   0.0s\n",
      "[CV 3/5] END ................model__alpha=2.6;, score=-55.685 total time=   0.0s\n",
      "[CV 4/5] END ................model__alpha=2.6;, score=-33.083 total time=   0.0s\n",
      "[CV 5/5] END ................model__alpha=2.6;, score=-36.561 total time=   0.0s\n",
      "[CV 1/5] END ................model__alpha=2.7;, score=-49.434 total time=   0.0s\n",
      "[CV 2/5] END ................model__alpha=2.7;, score=-29.311 total time=   0.0s\n",
      "[CV 3/5] END ................model__alpha=2.7;, score=-57.136 total time=   0.0s\n",
      "[CV 4/5] END ................model__alpha=2.7;, score=-33.592 total time=   0.0s\n",
      "[CV 5/5] END ................model__alpha=2.7;, score=-37.218 total time=   0.0s\n",
      "[CV 1/5] END .model__alpha=2.8000000000000003;, score=-50.342 total time=   0.0s\n",
      "[CV 2/5] END .model__alpha=2.8000000000000003;, score=-29.853 total time=   0.0s\n",
      "[CV 3/5] END .model__alpha=2.8000000000000003;, score=-58.632 total time=   0.0s\n",
      "[CV 4/5] END .model__alpha=2.8000000000000003;, score=-34.114 total time=   0.0s\n",
      "[CV 5/5] END .model__alpha=2.8000000000000003;, score=-37.905 total time=   0.0s\n",
      "[CV 1/5] END .model__alpha=2.9000000000000004;, score=-51.285 total time=   0.0s\n",
      "[CV 2/5] END .model__alpha=2.9000000000000004;, score=-30.421 total time=   0.0s\n",
      "[CV 3/5] END .model__alpha=2.9000000000000004;, score=-60.036 total time=   0.0s\n",
      "[CV 4/5] END .model__alpha=2.9000000000000004;, score=-34.651 total time=   0.0s\n",
      "[CV 5/5] END .model__alpha=2.9000000000000004;, score=-38.384 total time=   0.0s\n",
      "[CV 1/5] END .model__alpha=3.0000000000000004;, score=-52.261 total time=   0.0s\n",
      "[CV 2/5] END .model__alpha=3.0000000000000004;, score=-31.016 total time=   0.0s\n",
      "[CV 3/5] END .model__alpha=3.0000000000000004;, score=-61.400 total time=   0.0s\n",
      "[CV 4/5] END .model__alpha=3.0000000000000004;, score=-35.201 total time=   0.0s\n",
      "[CV 5/5] END .model__alpha=3.0000000000000004;, score=-38.872 total time=   0.0s\n",
      "[CV 1/5] END ................model__alpha=3.1;, score=-53.236 total time=   0.0s\n",
      "[CV 2/5] END ................model__alpha=3.1;, score=-31.637 total time=   0.0s\n",
      "[CV 3/5] END ................model__alpha=3.1;, score=-62.801 total time=   0.0s\n",
      "[CV 4/5] END ................model__alpha=3.1;, score=-35.766 total time=   0.0s\n",
      "[CV 5/5] END ................model__alpha=3.1;, score=-39.382 total time=   0.0s\n",
      "[CV 1/5] END ................model__alpha=3.2;, score=-54.147 total time=   0.0s\n",
      "[CV 2/5] END ................model__alpha=3.2;, score=-32.267 total time=   0.0s\n",
      "[CV 3/5] END ................model__alpha=3.2;, score=-64.238 total time=   0.0s\n",
      "[CV 4/5] END ................model__alpha=3.2;, score=-36.345 total time=   0.0s\n",
      "[CV 5/5] END ................model__alpha=3.2;, score=-39.913 total time=   0.0s\n",
      "[CV 1/5] END .model__alpha=3.3000000000000003;, score=-55.087 total time=   0.0s\n",
      "[CV 2/5] END .model__alpha=3.3000000000000003;, score=-32.845 total time=   0.0s\n",
      "[CV 3/5] END .model__alpha=3.3000000000000003;, score=-65.711 total time=   0.0s\n",
      "[CV 4/5] END .model__alpha=3.3000000000000003;, score=-36.938 total time=   0.0s\n",
      "[CV 5/5] END .model__alpha=3.3000000000000003;, score=-40.464 total time=   0.0s\n",
      "[CV 1/5] END .model__alpha=3.4000000000000004;, score=-56.055 total time=   0.0s\n",
      "[CV 2/5] END .model__alpha=3.4000000000000004;, score=-33.450 total time=   0.0s\n",
      "[CV 3/5] END .model__alpha=3.4000000000000004;, score=-67.221 total time=   0.0s\n",
      "[CV 4/5] END .model__alpha=3.4000000000000004;, score=-37.545 total time=   0.0s\n",
      "[CV 5/5] END .model__alpha=3.4000000000000004;, score=-41.037 total time=   0.0s\n",
      "[CV 1/5] END .model__alpha=3.5000000000000004;, score=-57.051 total time=   0.0s\n",
      "[CV 2/5] END .model__alpha=3.5000000000000004;, score=-34.081 total time=   0.0s\n",
      "[CV 3/5] END .model__alpha=3.5000000000000004;, score=-68.767 total time=   0.0s\n",
      "[CV 4/5] END .model__alpha=3.5000000000000004;, score=-38.166 total time=   0.0s\n",
      "[CV 5/5] END .model__alpha=3.5000000000000004;, score=-41.631 total time=   0.0s\n",
      "[CV 1/5] END ................model__alpha=3.6;, score=-58.075 total time=   0.0s\n",
      "[CV 2/5] END ................model__alpha=3.6;, score=-34.737 total time=   0.0s\n",
      "[CV 3/5] END ................model__alpha=3.6;, score=-70.349 total time=   0.0s\n",
      "[CV 4/5] END ................model__alpha=3.6;, score=-38.801 total time=   0.0s\n",
      "[CV 5/5] END ................model__alpha=3.6;, score=-42.247 total time=   0.0s\n",
      "[CV 1/5] END ................model__alpha=3.7;, score=-59.128 total time=   0.0s\n",
      "[CV 2/5] END ................model__alpha=3.7;, score=-35.420 total time=   0.0s\n",
      "[CV 3/5] END ................model__alpha=3.7;, score=-71.968 total time=   0.0s\n",
      "[CV 4/5] END ................model__alpha=3.7;, score=-39.450 total time=   0.0s\n",
      "[CV 5/5] END ................model__alpha=3.7;, score=-42.883 total time=   0.0s\n",
      "[CV 1/5] END .model__alpha=3.8000000000000003;, score=-60.208 total time=   0.0s\n",
      "[CV 2/5] END .model__alpha=3.8000000000000003;, score=-36.128 total time=   0.0s\n",
      "[CV 3/5] END .model__alpha=3.8000000000000003;, score=-73.624 total time=   0.0s\n",
      "[CV 4/5] END .model__alpha=3.8000000000000003;, score=-40.113 total time=   0.0s\n",
      "[CV 5/5] END .model__alpha=3.8000000000000003;, score=-43.541 total time=   0.0s\n",
      "[CV 1/5] END .model__alpha=3.9000000000000004;, score=-61.318 total time=   0.0s\n",
      "[CV 2/5] END .model__alpha=3.9000000000000004;, score=-36.862 total time=   0.0s\n",
      "[CV 3/5] END .model__alpha=3.9000000000000004;, score=-75.316 total time=   0.0s\n",
      "[CV 4/5] END .model__alpha=3.9000000000000004;, score=-40.790 total time=   0.0s\n",
      "[CV 5/5] END .model__alpha=3.9000000000000004;, score=-44.219 total time=   0.0s\n",
      "[CV 1/5] END ................model__alpha=4.0;, score=-62.455 total time=   0.0s\n",
      "[CV 2/5] END ................model__alpha=4.0;, score=-37.623 total time=   0.0s\n",
      "[CV 3/5] END ................model__alpha=4.0;, score=-77.044 total time=   0.0s\n",
      "[CV 4/5] END ................model__alpha=4.0;, score=-41.481 total time=   0.0s\n",
      "[CV 5/5] END ................model__alpha=4.0;, score=-44.919 total time=   0.0s\n",
      "[CV 1/5] END ................model__alpha=4.1;, score=-63.620 total time=   0.0s\n",
      "[CV 2/5] END ................model__alpha=4.1;, score=-38.409 total time=   0.0s\n",
      "[CV 3/5] END ................model__alpha=4.1;, score=-78.809 total time=   0.0s\n",
      "[CV 4/5] END ................model__alpha=4.1;, score=-42.187 total time=   0.0s\n",
      "[CV 5/5] END ................model__alpha=4.1;, score=-45.640 total time=   0.0s\n",
      "[CV 1/5] END ................model__alpha=4.2;, score=-64.814 total time=   0.0s\n",
      "[CV 2/5] END ................model__alpha=4.2;, score=-39.222 total time=   0.0s\n",
      "[CV 3/5] END ................model__alpha=4.2;, score=-80.611 total time=   0.0s\n",
      "[CV 4/5] END ................model__alpha=4.2;, score=-42.906 total time=   0.0s\n",
      "[CV 5/5] END ................model__alpha=4.2;, score=-46.382 total time=   0.0s\n",
      "[CV 1/5] END ................model__alpha=4.3;, score=-66.036 total time=   0.0s\n",
      "[CV 2/5] END ................model__alpha=4.3;, score=-40.060 total time=   0.0s\n",
      "[CV 3/5] END ................model__alpha=4.3;, score=-82.448 total time=   0.0s\n",
      "[CV 4/5] END ................model__alpha=4.3;, score=-43.639 total time=   0.0s\n",
      "[CV 5/5] END ................model__alpha=4.3;, score=-47.145 total time=   0.0s\n",
      "[CV 1/5] END .model__alpha=4.3999999999999995;, score=-67.286 total time=   0.0s\n",
      "[CV 2/5] END .model__alpha=4.3999999999999995;, score=-40.924 total time=   0.0s\n",
      "[CV 3/5] END .model__alpha=4.3999999999999995;, score=-84.323 total time=   0.0s\n",
      "[CV 4/5] END .model__alpha=4.3999999999999995;, score=-44.387 total time=   0.0s\n",
      "[CV 5/5] END .model__alpha=4.3999999999999995;, score=-47.930 total time=   0.0s\n",
      "[CV 1/5] END ................model__alpha=4.5;, score=-68.565 total time=   0.0s\n",
      "[CV 2/5] END ................model__alpha=4.5;, score=-41.815 total time=   0.0s\n",
      "[CV 3/5] END ................model__alpha=4.5;, score=-86.233 total time=   0.0s\n",
      "[CV 4/5] END ................model__alpha=4.5;, score=-45.148 total time=   0.0s\n",
      "[CV 5/5] END ................model__alpha=4.5;, score=-48.735 total time=   0.0s\n",
      "[CV 1/5] END ................model__alpha=4.6;, score=-69.872 total time=   0.0s\n",
      "[CV 2/5] END ................model__alpha=4.6;, score=-42.731 total time=   0.0s\n",
      "[CV 3/5] END ................model__alpha=4.6;, score=-88.181 total time=   0.0s\n",
      "[CV 4/5] END ................model__alpha=4.6;, score=-45.924 total time=   0.0s\n",
      "[CV 5/5] END ................model__alpha=4.6;, score=-49.562 total time=   0.0s\n",
      "[CV 1/5] END ................model__alpha=4.7;, score=-71.207 total time=   0.0s\n",
      "[CV 2/5] END ................model__alpha=4.7;, score=-43.673 total time=   0.0s\n",
      "[CV 3/5] END ................model__alpha=4.7;, score=-90.164 total time=   0.0s\n",
      "[CV 4/5] END ................model__alpha=4.7;, score=-46.713 total time=   0.0s\n",
      "[CV 5/5] END ................model__alpha=4.7;, score=-50.410 total time=   0.0s\n",
      "[CV 1/5] END ................model__alpha=4.8;, score=-72.570 total time=   0.0s\n",
      "[CV 2/5] END ................model__alpha=4.8;, score=-44.641 total time=   0.0s\n",
      "[CV 3/5] END ................model__alpha=4.8;, score=-92.184 total time=   0.0s\n",
      "[CV 4/5] END ................model__alpha=4.8;, score=-47.517 total time=   0.0s\n",
      "[CV 5/5] END ................model__alpha=4.8;, score=-51.279 total time=   0.0s\n",
      "[CV 1/5] END ................model__alpha=4.9;, score=-73.961 total time=   0.0s\n",
      "[CV 2/5] END ................model__alpha=4.9;, score=-45.636 total time=   0.0s\n",
      "[CV 3/5] END ................model__alpha=4.9;, score=-93.616 total time=   0.0s\n",
      "[CV 4/5] END ................model__alpha=4.9;, score=-48.335 total time=   0.0s\n",
      "[CV 5/5] END ................model__alpha=4.9;, score=-52.169 total time=   0.0s\n"
     ]
    },
    {
     "data": {
      "text/plain": [
       "GridSearchCV(cv=5,\n",
       "             estimator=Pipeline(steps=[('scaler', StandardScaler()),\n",
       "                                       ('model', Lasso())]),\n",
       "             param_grid={'model__alpha': array([0.1, 0.2, 0.3, 0.4, 0.5, 0.6, 0.7, 0.8, 0.9, 1. , 1.1, 1.2, 1.3,\n",
       "       1.4, 1.5, 1.6, 1.7, 1.8, 1.9, 2. , 2.1, 2.2, 2.3, 2.4, 2.5, 2.6,\n",
       "       2.7, 2.8, 2.9, 3. , 3.1, 3.2, 3.3, 3.4, 3.5, 3.6, 3.7, 3.8, 3.9,\n",
       "       4. , 4.1, 4.2, 4.3, 4.4, 4.5, 4.6, 4.7, 4.8, 4.9])},\n",
       "             scoring='neg_mean_squared_error', verbose=4)"
      ]
     },
     "execution_count": 103,
     "metadata": {},
     "output_type": "execute_result"
    }
   ],
   "source": [
    "search.fit(X_train,y_train)"
   ]
  },
  {
   "cell_type": "markdown",
   "id": "653ae6cf-c9de-4ea8-81d5-63687ee78319",
   "metadata": {},
   "source": [
    "##### The best value for α is:"
   ]
  },
  {
   "cell_type": "code",
   "execution_count": 104,
   "id": "a717ab9c-8954-4b05-bf88-a7de6fea1f25",
   "metadata": {},
   "outputs": [
    {
     "data": {
      "text/plain": [
       "{'model__alpha': 0.1}"
      ]
     },
     "execution_count": 104,
     "metadata": {},
     "output_type": "execute_result"
    }
   ],
   "source": [
    "search.best_params_"
   ]
  },
  {
   "cell_type": "markdown",
   "id": "7dfc8d2c-0450-4c97-a48c-0ca649df9013",
   "metadata": {},
   "source": [
    "##### For get the values of the coefficients of Lasso regression."
   ]
  },
  {
   "cell_type": "code",
   "execution_count": 105,
   "id": "e0374286",
   "metadata": {},
   "outputs": [
    {
     "data": {
      "text/plain": [
       "array([-0.66991383,  0.43061628, -0.        ,  0.87630476, -1.36149475,\n",
       "        2.89584589, -0.18487001, -2.25812838,  0.46253968, -0.        ,\n",
       "       -1.90039821,  0.9373862 , -3.95913625])"
      ]
     },
     "execution_count": 105,
     "metadata": {},
     "output_type": "execute_result"
    }
   ],
   "source": [
    "coefficients = search.best_estimator_.named_steps['model'].coef_\n",
    "coefficients"
   ]
  },
  {
   "cell_type": "markdown",
   "id": "05712058-7a36-4bb0-a23f-29698e0326dc",
   "metadata": {},
   "source": [
    "#####  Check the importance of feature by absolute value of its coefficient."
   ]
  },
  {
   "cell_type": "code",
   "execution_count": 106,
   "id": "b82fd7b5-af54-4a24-8dfc-e08960e99e1c",
   "metadata": {},
   "outputs": [
    {
     "data": {
      "text/plain": [
       "array([0.66991383, 0.43061628, 0.        , 0.87630476, 1.36149475,\n",
       "       2.89584589, 0.18487001, 2.25812838, 0.46253968, 0.        ,\n",
       "       1.90039821, 0.9373862 , 3.95913625])"
      ]
     },
     "execution_count": 106,
     "metadata": {},
     "output_type": "execute_result"
    }
   ],
   "source": [
    "importance = np.abs(coefficients)\n",
    "importance"
   ]
  },
  {
   "cell_type": "markdown",
   "id": "0bc67003-0bdb-4ffb-886f-669f44c4be38",
   "metadata": {},
   "source": [
    "##### Its clear that two features have zero importance"
   ]
  },
  {
   "cell_type": "code",
   "execution_count": 107,
   "id": "659a123b-c6cc-4d90-8504-cdda95176ef9",
   "metadata": {},
   "outputs": [
    {
     "data": {
      "text/plain": [
       "array(['CRIM', 'ZN', 'CHAS', 'NOX', 'RM', 'AGE', 'DIS', 'RAD', 'PTRATIO',\n",
       "       'B', 'LSTAT'], dtype='<U7')"
      ]
     },
     "execution_count": 107,
     "metadata": {},
     "output_type": "execute_result"
    }
   ],
   "source": [
    "np.array(features)[importance > 0]"
   ]
  },
  {
   "cell_type": "markdown",
   "id": "9d18f51d-78b8-4c43-8d36-38d002add952",
   "metadata": {},
   "source": [
    "##### The discarded features are:"
   ]
  },
  {
   "cell_type": "code",
   "execution_count": 108,
   "id": "2bed2a2a-a68a-4e75-9fbd-16bc92aa2630",
   "metadata": {},
   "outputs": [
    {
     "data": {
      "text/plain": [
       "array(['INDUS', 'TAX'], dtype='<U7')"
      ]
     },
     "execution_count": 108,
     "metadata": {},
     "output_type": "execute_result"
    }
   ],
   "source": [
    "np.array(features)[importance == 0]"
   ]
  }
 ],
 "metadata": {
  "kernelspec": {
   "display_name": "Python 3 (ipykernel)",
   "language": "python",
   "name": "python3"
  },
  "language_info": {
   "codemirror_mode": {
    "name": "ipython",
    "version": 3
   },
   "file_extension": ".py",
   "mimetype": "text/x-python",
   "name": "python",
   "nbconvert_exporter": "python",
   "pygments_lexer": "ipython3",
   "version": "3.8.10"
  }
 },
 "nbformat": 4,
 "nbformat_minor": 5
}
